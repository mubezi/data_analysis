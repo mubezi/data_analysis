{
 "cells": [
  {
   "cell_type": "code",
   "execution_count": 4,
   "id": "7ae4cf0c",
   "metadata": {},
   "outputs": [
    {
     "data": {
      "text/html": [
       "<div>\n",
       "<style scoped>\n",
       "    .dataframe tbody tr th:only-of-type {\n",
       "        vertical-align: middle;\n",
       "    }\n",
       "\n",
       "    .dataframe tbody tr th {\n",
       "        vertical-align: top;\n",
       "    }\n",
       "\n",
       "    .dataframe thead th {\n",
       "        text-align: right;\n",
       "    }\n",
       "</style>\n",
       "<table border=\"1\" class=\"dataframe\">\n",
       "  <thead>\n",
       "    <tr style=\"text-align: right;\">\n",
       "      <th></th>\n",
       "      <th>Year</th>\n",
       "      <th>Month</th>\n",
       "      <th>Vehicle Type</th>\n",
       "      <th>Time Period (AM/PM)</th>\n",
       "      <th>Area Type</th>\n",
       "      <th>Functional Classification</th>\n",
       "      <th>Speed</th>\n",
       "    </tr>\n",
       "  </thead>\n",
       "  <tbody>\n",
       "    <tr>\n",
       "      <th>0</th>\n",
       "      <td>2019</td>\n",
       "      <td>Jan</td>\n",
       "      <td>Passenger</td>\n",
       "      <td>AM</td>\n",
       "      <td>Urban</td>\n",
       "      <td>1</td>\n",
       "      <td>54.5</td>\n",
       "    </tr>\n",
       "    <tr>\n",
       "      <th>1</th>\n",
       "      <td>2019</td>\n",
       "      <td>Jan</td>\n",
       "      <td>Passenger</td>\n",
       "      <td>AM</td>\n",
       "      <td>Urban</td>\n",
       "      <td>2</td>\n",
       "      <td>49.6</td>\n",
       "    </tr>\n",
       "    <tr>\n",
       "      <th>2</th>\n",
       "      <td>2019</td>\n",
       "      <td>Jan</td>\n",
       "      <td>Passenger</td>\n",
       "      <td>AM</td>\n",
       "      <td>Urban</td>\n",
       "      <td>3</td>\n",
       "      <td>27.5</td>\n",
       "    </tr>\n",
       "    <tr>\n",
       "      <th>3</th>\n",
       "      <td>2019</td>\n",
       "      <td>Jan</td>\n",
       "      <td>Passenger</td>\n",
       "      <td>AM</td>\n",
       "      <td>Urban</td>\n",
       "      <td>4</td>\n",
       "      <td>24.9</td>\n",
       "    </tr>\n",
       "    <tr>\n",
       "      <th>4</th>\n",
       "      <td>2019</td>\n",
       "      <td>Jan</td>\n",
       "      <td>Passenger</td>\n",
       "      <td>AM</td>\n",
       "      <td>Urban</td>\n",
       "      <td>5</td>\n",
       "      <td>19.8</td>\n",
       "    </tr>\n",
       "  </tbody>\n",
       "</table>\n",
       "</div>"
      ],
      "text/plain": [
       "   Year Month Vehicle Type Time Period (AM/PM) Area Type  \\\n",
       "0  2019   Jan    Passenger                  AM     Urban   \n",
       "1  2019   Jan    Passenger                  AM     Urban   \n",
       "2  2019   Jan    Passenger                  AM     Urban   \n",
       "3  2019   Jan    Passenger                  AM     Urban   \n",
       "4  2019   Jan    Passenger                  AM     Urban   \n",
       "\n",
       "   Functional Classification  Speed  \n",
       "0                          1   54.5  \n",
       "1                          2   49.6  \n",
       "2                          3   27.5  \n",
       "3                          4   24.9  \n",
       "4                          5   19.8  "
      ]
     },
     "execution_count": 4,
     "metadata": {},
     "output_type": "execute_result"
    }
   ],
   "source": [
    "import pandas as pd\n",
    "import numpy as np \n",
    "import matplotlib.pyplot as plt\n",
    "import glob\n",
    "\n",
    "trafficdata=pd.read_csv('C:/python/Data3/trafficspeed.csv')\n",
    "trafficdata.head()"
   ]
  },
  {
   "cell_type": "markdown",
   "id": "095d8e71",
   "metadata": {},
   "source": [
    "#### how does month affect traffic speed\n"
   ]
  },
  {
   "cell_type": "code",
   "execution_count": 5,
   "id": "2dc09d34",
   "metadata": {},
   "outputs": [
    {
     "data": {
      "text/plain": [
       "Year                          0\n",
       "Month                         0\n",
       "Vehicle Type                  0\n",
       "Time Period (AM/PM)           0\n",
       "Area Type                     0\n",
       "Functional Classification     0\n",
       "Speed                        17\n",
       "dtype: int64"
      ]
     },
     "execution_count": 5,
     "metadata": {},
     "output_type": "execute_result"
    }
   ],
   "source": [
    "trafficdata.isnull().sum()"
   ]
  },
  {
   "cell_type": "code",
   "execution_count": 6,
   "id": "1b016266",
   "metadata": {
    "scrolled": true
   },
   "outputs": [],
   "source": [
    "#cleaning the data\n",
    "trafficdata=trafficdata.dropna()"
   ]
  },
  {
   "cell_type": "code",
   "execution_count": 7,
   "id": "833fe4dd",
   "metadata": {},
   "outputs": [
    {
     "data": {
      "text/plain": [
       "Year                         0\n",
       "Month                        0\n",
       "Vehicle Type                 0\n",
       "Time Period (AM/PM)          0\n",
       "Area Type                    0\n",
       "Functional Classification    0\n",
       "Speed                        0\n",
       "dtype: int64"
      ]
     },
     "execution_count": 7,
     "metadata": {},
     "output_type": "execute_result"
    }
   ],
   "source": [
    "trafficdata.isnull().sum()##removed the all the 17rows of empty data"
   ]
  },
  {
   "cell_type": "code",
   "execution_count": 8,
   "id": "83d59763",
   "metadata": {},
   "outputs": [
    {
     "name": "stdout",
     "output_type": "stream",
     "text": [
      "<class 'pandas.core.frame.DataFrame'>\n",
      "Int64Index: 3539 entries, 0 to 3555\n",
      "Data columns (total 2 columns):\n",
      " #   Column  Non-Null Count  Dtype  \n",
      "---  ------  --------------  -----  \n",
      " 0   Month   3539 non-null   object \n",
      " 1   Speed   3539 non-null   float64\n",
      "dtypes: float64(1), object(1)\n",
      "memory usage: 82.9+ KB\n"
     ]
    }
   ],
   "source": [
    "monthspeeddata=trafficdata[['Month','Speed']]\n",
    "monthspeeddata.head()\n",
    "monthspeeddata.info()"
   ]
  },
  {
   "cell_type": "code",
   "execution_count": null,
   "id": "c983b9c8",
   "metadata": {},
   "outputs": [],
   "source": []
  },
  {
   "cell_type": "code",
   "execution_count": null,
   "id": "8bc02e5b",
   "metadata": {},
   "outputs": [],
   "source": [
    "\n"
   ]
  },
  {
   "cell_type": "code",
   "execution_count": 9,
   "id": "ef5a3ddb",
   "metadata": {},
   "outputs": [
    {
     "data": {
      "text/html": [
       "<div>\n",
       "<style scoped>\n",
       "    .dataframe tbody tr th:only-of-type {\n",
       "        vertical-align: middle;\n",
       "    }\n",
       "\n",
       "    .dataframe tbody tr th {\n",
       "        vertical-align: top;\n",
       "    }\n",
       "\n",
       "    .dataframe thead th {\n",
       "        text-align: right;\n",
       "    }\n",
       "</style>\n",
       "<table border=\"1\" class=\"dataframe\">\n",
       "  <thead>\n",
       "    <tr style=\"text-align: right;\">\n",
       "      <th></th>\n",
       "      <th>Speed</th>\n",
       "    </tr>\n",
       "    <tr>\n",
       "      <th>Month</th>\n",
       "      <th></th>\n",
       "    </tr>\n",
       "  </thead>\n",
       "  <tbody>\n",
       "    <tr>\n",
       "      <th>Feb</th>\n",
       "      <td>11140.2</td>\n",
       "    </tr>\n",
       "    <tr>\n",
       "      <th>Mar</th>\n",
       "      <td>11345.1</td>\n",
       "    </tr>\n",
       "    <tr>\n",
       "      <th>May</th>\n",
       "      <td>11373.5</td>\n",
       "    </tr>\n",
       "    <tr>\n",
       "      <th>Jan</th>\n",
       "      <td>11429.4</td>\n",
       "    </tr>\n",
       "    <tr>\n",
       "      <th>Apr</th>\n",
       "      <td>11525.6</td>\n",
       "    </tr>\n",
       "    <tr>\n",
       "      <th>Sep</th>\n",
       "      <td>12202.8</td>\n",
       "    </tr>\n",
       "    <tr>\n",
       "      <th>Nov</th>\n",
       "      <td>12314.4</td>\n",
       "    </tr>\n",
       "    <tr>\n",
       "      <th>Dec</th>\n",
       "      <td>12335.7</td>\n",
       "    </tr>\n",
       "    <tr>\n",
       "      <th>Oct</th>\n",
       "      <td>12355.2</td>\n",
       "    </tr>\n",
       "    <tr>\n",
       "      <th>Aug</th>\n",
       "      <td>12521.3</td>\n",
       "    </tr>\n",
       "    <tr>\n",
       "      <th>Jul</th>\n",
       "      <td>12544.1</td>\n",
       "    </tr>\n",
       "    <tr>\n",
       "      <th>Jun</th>\n",
       "      <td>12633.4</td>\n",
       "    </tr>\n",
       "  </tbody>\n",
       "</table>\n",
       "</div>"
      ],
      "text/plain": [
       "         Speed\n",
       "Month         \n",
       "Feb    11140.2\n",
       "Mar    11345.1\n",
       "May    11373.5\n",
       "Jan    11429.4\n",
       "Apr    11525.6\n",
       "Sep    12202.8\n",
       "Nov    12314.4\n",
       "Dec    12335.7\n",
       "Oct    12355.2\n",
       "Aug    12521.3\n",
       "Jul    12544.1\n",
       "Jun    12633.4"
      ]
     },
     "execution_count": 9,
     "metadata": {},
     "output_type": "execute_result"
    }
   ],
   "source": [
    "totalmonthspeed=monthspeeddata.groupby('Month').sum('Speed')\n",
    "totalmonthspeed.head(12).sort_values('Speed')"
   ]
  },
  {
   "cell_type": "code",
   "execution_count": 10,
   "id": "fef2dc79",
   "metadata": {},
   "outputs": [
    {
     "data": {
      "image/png": "[encoded data removed]",
      "text/plain": [
       "<Figure size 640x480 with 1 Axes>"
      ]
     },
     "metadata": {},
     "output_type": "display_data"
    }
   ],
   "source": [
    "months=[month for month, df in trafficdata.groupby('Month')]\n",
    "plt.bar(months,totalmonthspeed['Speed'])\n",
    "plt.xlabel('months')\n",
    "plt.ylabel('total speeds(2019-2022)')\n",
    "plt.title('Bar group to show the speed sums in all the months from 2019 to 2022')\n",
    "plt.show()"
   ]
  },
  {
   "cell_type": "code",
   "execution_count": 11,
   "id": "e54c954a",
   "metadata": {},
   "outputs": [
    {
     "data": {
      "text/html": [
       "<div>\n",
       "<style scoped>\n",
       "    .dataframe tbody tr th:only-of-type {\n",
       "        vertical-align: middle;\n",
       "    }\n",
       "\n",
       "    .dataframe tbody tr th {\n",
       "        vertical-align: top;\n",
       "    }\n",
       "\n",
       "    .dataframe thead th {\n",
       "        text-align: right;\n",
       "    }\n",
       "</style>\n",
       "<table border=\"1\" class=\"dataframe\">\n",
       "  <thead>\n",
       "    <tr style=\"text-align: right;\">\n",
       "      <th></th>\n",
       "      <th>Year</th>\n",
       "      <th>Month</th>\n",
       "      <th>Vehicle Type</th>\n",
       "      <th>Time Period (AM/PM)</th>\n",
       "      <th>Area Type</th>\n",
       "      <th>Functional Classification</th>\n",
       "      <th>Speed</th>\n",
       "    </tr>\n",
       "  </thead>\n",
       "  <tbody>\n",
       "    <tr>\n",
       "      <th>666</th>\n",
       "      <td>2019</td>\n",
       "      <td>Dec</td>\n",
       "      <td>Freight</td>\n",
       "      <td>PM</td>\n",
       "      <td>Rural</td>\n",
       "      <td>2</td>\n",
       "      <td>60.5</td>\n",
       "    </tr>\n",
       "    <tr>\n",
       "      <th>667</th>\n",
       "      <td>2019</td>\n",
       "      <td>Dec</td>\n",
       "      <td>Freight</td>\n",
       "      <td>PM</td>\n",
       "      <td>Rural</td>\n",
       "      <td>3</td>\n",
       "      <td>54.1</td>\n",
       "    </tr>\n",
       "    <tr>\n",
       "      <th>668</th>\n",
       "      <td>2019</td>\n",
       "      <td>Dec</td>\n",
       "      <td>Freight</td>\n",
       "      <td>PM</td>\n",
       "      <td>Rural</td>\n",
       "      <td>4</td>\n",
       "      <td>49.4</td>\n",
       "    </tr>\n",
       "    <tr>\n",
       "      <th>669</th>\n",
       "      <td>2019</td>\n",
       "      <td>Dec</td>\n",
       "      <td>Freight</td>\n",
       "      <td>PM</td>\n",
       "      <td>Rural</td>\n",
       "      <td>5</td>\n",
       "      <td>42.8</td>\n",
       "    </tr>\n",
       "    <tr>\n",
       "      <th>671</th>\n",
       "      <td>2019</td>\n",
       "      <td>Dec</td>\n",
       "      <td>Freight</td>\n",
       "      <td>PM</td>\n",
       "      <td>Rural</td>\n",
       "      <td>7</td>\n",
       "      <td>36.0</td>\n",
       "    </tr>\n",
       "  </tbody>\n",
       "</table>\n",
       "</div>"
      ],
      "text/plain": [
       "     Year Month Vehicle Type Time Period (AM/PM) Area Type  \\\n",
       "666  2019   Dec      Freight                  PM     Rural   \n",
       "667  2019   Dec      Freight                  PM     Rural   \n",
       "668  2019   Dec      Freight                  PM     Rural   \n",
       "669  2019   Dec      Freight                  PM     Rural   \n",
       "671  2019   Dec      Freight                  PM     Rural   \n",
       "\n",
       "     Functional Classification  Speed  \n",
       "666                          2   60.5  \n",
       "667                          3   54.1  \n",
       "668                          4   49.4  \n",
       "669                          5   42.8  \n",
       "671                          7   36.0  "
      ]
     },
     "execution_count": 11,
     "metadata": {},
     "output_type": "execute_result"
    }
   ],
   "source": [
    "##Ssplit the data according to the year\n",
    "traffic2019=trafficdata.loc[trafficdata['Year']==2019]\n",
    "traffic2019.tail()\n"
   ]
  },
  {
   "cell_type": "code",
   "execution_count": 12,
   "id": "5ac865c5",
   "metadata": {
    "scrolled": false
   },
   "outputs": [
    {
     "data": {
      "text/plain": [
       "array([2019], dtype=int64)"
      ]
     },
     "execution_count": 12,
     "metadata": {},
     "output_type": "execute_result"
    }
   ],
   "source": [
    "#to confirm that it has only extracted data for 2019\n",
    "traffic2019['Year'].unique()"
   ]
  },
  {
   "cell_type": "code",
   "execution_count": 13,
   "id": "ebcea692",
   "metadata": {},
   "outputs": [],
   "source": [
    "#the same for the year 2020 to 2022\n",
    "traffic2020=trafficdata.loc[trafficdata['Year']==2020]\n",
    "traffic2021=trafficdata.loc[trafficdata['Year']==2021]\n",
    "traffic2022=trafficdata.loc[trafficdata['Year']==2022]"
   ]
  },
  {
   "cell_type": "markdown",
   "id": "ad479b87",
   "metadata": {},
   "source": [
    "#### correlation between functional classification and speed"
   ]
  },
  {
   "cell_type": "code",
   "execution_count": 14,
   "id": "71e70284",
   "metadata": {},
   "outputs": [
    {
     "data": {
      "image/png": "[encoded data removed]",
      "text/plain": [
       "<Figure size 1200x600 with 8 Axes>"
      ]
     },
     "metadata": {},
     "output_type": "display_data"
    }
   ],
   "source": [
    "import seaborn as sns\n",
    "\n",
    "#find the correlation\n",
    "traffic2019corr=traffic2019.drop(['Year'],axis=1).corr(method='pearson',numeric_only=True)\n",
    "traffic2020corr=traffic2020.drop(['Year'],axis=1).corr(method='pearson',numeric_only=True)\n",
    "traffic2021corr=traffic2021.drop(['Year'],axis=1).corr(method='pearson',numeric_only=True)\n",
    "traffic2022corr=traffic2022.drop(['Year'],axis=1).corr(method='pearson',numeric_only=True)\n",
    "\n",
    "\n",
    "plt.figure(figsize=(12,6))\n",
    "plt.subplot(2,2,1)\n",
    "traffic2019corr=traffic2019.drop(['Year'],axis=1).corr(method='pearson',numeric_only=True)\n",
    "traffic2019corr\n",
    "heatmap=sns.heatmap(traffic2019corr, annot=True, fmt='.2g', vmin=-1, vmax=1, center=0, cmap='coolwarm', linewidths=2,linecolor='black' ).set_title('2019')\n",
    "plt.title('correlation of functional classification versus speed, 2019\\n')\n",
    "\n",
    "plt.subplot(2,2,2)\n",
    "heatmap=sns.heatmap(traffic2020corr, annot=True, fmt='.2g', vmin=-1, vmax=1, center=0, cmap='coolwarm', linewidths=2,linecolor='black' )\n",
    "\n",
    "plt.subplot(2,2,3)\n",
    "heatmap=sns.heatmap(traffic2021corr, annot=True, fmt='.2g', vmin=-1, vmax=1, center=0, cmap='coolwarm', linewidths=2,linecolor='black' )\n",
    "\n",
    "plt.subplot(2,2,4)\n",
    "heatmap=sns.heatmap(traffic2022corr, annot=True, fmt='.2g', vmin=-1, vmax=1, center=0, cmap='coolwarm', linewidths=2,linecolor='black' )"
   ]
  },
  {
   "cell_type": "markdown",
   "id": "fbc53b16",
   "metadata": {},
   "source": [
    "#### ploting the graphs"
   ]
  },
  {
   "cell_type": "code",
   "execution_count": 15,
   "id": "04fc63fb",
   "metadata": {},
   "outputs": [
    {
     "data": {
      "text/html": [
       "<div>\n",
       "<style scoped>\n",
       "    .dataframe tbody tr th:only-of-type {\n",
       "        vertical-align: middle;\n",
       "    }\n",
       "\n",
       "    .dataframe tbody tr th {\n",
       "        vertical-align: top;\n",
       "    }\n",
       "\n",
       "    .dataframe thead th {\n",
       "        text-align: right;\n",
       "    }\n",
       "</style>\n",
       "<table border=\"1\" class=\"dataframe\">\n",
       "  <thead>\n",
       "    <tr style=\"text-align: right;\">\n",
       "      <th></th>\n",
       "      <th>Year</th>\n",
       "      <th>Month</th>\n",
       "      <th>Vehicle Type</th>\n",
       "      <th>Time Period (AM/PM)</th>\n",
       "      <th>Area Type</th>\n",
       "      <th>Functional Classification</th>\n",
       "      <th>Speed</th>\n",
       "    </tr>\n",
       "  </thead>\n",
       "  <tbody>\n",
       "    <tr>\n",
       "      <th>0</th>\n",
       "      <td>2019</td>\n",
       "      <td>Jan</td>\n",
       "      <td>Passenger</td>\n",
       "      <td>AM</td>\n",
       "      <td>Urban</td>\n",
       "      <td>1</td>\n",
       "      <td>54.5</td>\n",
       "    </tr>\n",
       "    <tr>\n",
       "      <th>1</th>\n",
       "      <td>2019</td>\n",
       "      <td>Jan</td>\n",
       "      <td>Passenger</td>\n",
       "      <td>AM</td>\n",
       "      <td>Urban</td>\n",
       "      <td>2</td>\n",
       "      <td>49.6</td>\n",
       "    </tr>\n",
       "    <tr>\n",
       "      <th>2</th>\n",
       "      <td>2019</td>\n",
       "      <td>Jan</td>\n",
       "      <td>Passenger</td>\n",
       "      <td>AM</td>\n",
       "      <td>Urban</td>\n",
       "      <td>3</td>\n",
       "      <td>27.5</td>\n",
       "    </tr>\n",
       "    <tr>\n",
       "      <th>3</th>\n",
       "      <td>2019</td>\n",
       "      <td>Jan</td>\n",
       "      <td>Passenger</td>\n",
       "      <td>AM</td>\n",
       "      <td>Urban</td>\n",
       "      <td>4</td>\n",
       "      <td>24.9</td>\n",
       "    </tr>\n",
       "    <tr>\n",
       "      <th>4</th>\n",
       "      <td>2019</td>\n",
       "      <td>Jan</td>\n",
       "      <td>Passenger</td>\n",
       "      <td>AM</td>\n",
       "      <td>Urban</td>\n",
       "      <td>5</td>\n",
       "      <td>19.8</td>\n",
       "    </tr>\n",
       "  </tbody>\n",
       "</table>\n",
       "</div>"
      ],
      "text/plain": [
       "   Year Month Vehicle Type Time Period (AM/PM) Area Type  \\\n",
       "0  2019   Jan    Passenger                  AM     Urban   \n",
       "1  2019   Jan    Passenger                  AM     Urban   \n",
       "2  2019   Jan    Passenger                  AM     Urban   \n",
       "3  2019   Jan    Passenger                  AM     Urban   \n",
       "4  2019   Jan    Passenger                  AM     Urban   \n",
       "\n",
       "   Functional Classification  Speed  \n",
       "0                          1   54.5  \n",
       "1                          2   49.6  \n",
       "2                          3   27.5  \n",
       "3                          4   24.9  \n",
       "4                          5   19.8  "
      ]
     },
     "execution_count": 15,
     "metadata": {},
     "output_type": "execute_result"
    }
   ],
   "source": [
    "traffic2019.head()"
   ]
  },
  {
   "cell_type": "code",
   "execution_count": 16,
   "id": "76685850",
   "metadata": {},
   "outputs": [
    {
     "data": {
      "text/plain": [
       "array(['Jan', 'Feb', 'Mar', 'Apr', 'May', 'Jun', 'Jul', 'Aug', 'Sep',\n",
       "       'Oct', 'Nov', 'Dec'], dtype=object)"
      ]
     },
     "execution_count": 16,
     "metadata": {},
     "output_type": "execute_result"
    }
   ],
   "source": [
    "traffic2019['Month'].unique()"
   ]
  },
  {
   "cell_type": "markdown",
   "id": "7774a0dd",
   "metadata": {},
   "source": [
    "#### how does areatype affect traffic speed"
   ]
  },
  {
   "cell_type": "code",
   "execution_count": 17,
   "id": "af30b7b5",
   "metadata": {},
   "outputs": [
    {
     "data": {
      "text/plain": [
       "array(['Urban', 'Rural'], dtype=object)"
      ]
     },
     "execution_count": 17,
     "metadata": {},
     "output_type": "execute_result"
    }
   ],
   "source": [
    "traffic2019['Area Type'].unique()"
   ]
  },
  {
   "cell_type": "code",
   "execution_count": 18,
   "id": "0f3fc555",
   "metadata": {},
   "outputs": [
    {
     "data": {
      "text/plain": [
       "array(['Passenger', 'Freight'], dtype=object)"
      ]
     },
     "execution_count": 18,
     "metadata": {},
     "output_type": "execute_result"
    }
   ],
   "source": [
    "traffic2019['Vehicle Type'].unique()"
   ]
  },
  {
   "cell_type": "code",
   "execution_count": 19,
   "id": "9eb36d4a",
   "metadata": {},
   "outputs": [],
   "source": [
    "## new dataframe for each year with average speed of each month\n",
    "\n",
    "traffic_rural2019=pd.unique(traffic2019[['Vehicle Type','Time Period (AM/PM)','Area Type']].values.ravel('k'))\n"
   ]
  },
  {
   "cell_type": "code",
   "execution_count": 20,
   "id": "c705f27b",
   "metadata": {},
   "outputs": [
    {
     "data": {
      "text/plain": [
       "38.8609022556391"
      ]
     },
     "execution_count": 20,
     "metadata": {},
     "output_type": "execute_result"
    }
   ],
   "source": [
    "traffic2019['Speed'].mean()"
   ]
  },
  {
   "cell_type": "code",
   "execution_count": 22,
   "id": "7abf460e",
   "metadata": {},
   "outputs": [
    {
     "name": "stderr",
     "output_type": "stream",
     "text": [
      "C:\\Users\\ESTHER\\AppData\\Local\\Temp\\ipykernel_2736\\4216879109.py:1: SettingWithCopyWarning: \n",
      "A value is trying to be set on a copy of a slice from a DataFrame\n",
      "\n",
      "See the caveats in the documentation: https://pandas.pydata.org/pandas-docs/stable/user_guide/indexing.html#returning-a-view-versus-a-copy\n",
      "  traffic2019.rename(columns={'Vehicle Type':'Vehicle'}, inplace=True)\n"
     ]
    }
   ],
   "source": [
    "traffic2019.rename(columns={'Vehicle Type':'Vehicle'}, inplace=True)"
   ]
  },
  {
   "cell_type": "code",
   "execution_count": 24,
   "id": "ffe6e7ba",
   "metadata": {},
   "outputs": [
    {
     "data": {
      "text/html": [
       "<div>\n",
       "<style scoped>\n",
       "    .dataframe tbody tr th:only-of-type {\n",
       "        vertical-align: middle;\n",
       "    }\n",
       "\n",
       "    .dataframe tbody tr th {\n",
       "        vertical-align: top;\n",
       "    }\n",
       "\n",
       "    .dataframe thead th {\n",
       "        text-align: right;\n",
       "    }\n",
       "</style>\n",
       "<table border=\"1\" class=\"dataframe\">\n",
       "  <thead>\n",
       "    <tr style=\"text-align: right;\">\n",
       "      <th></th>\n",
       "      <th>Year</th>\n",
       "      <th>Month</th>\n",
       "      <th>Vehicle</th>\n",
       "      <th>Time Period (AM/PM)</th>\n",
       "      <th>Area Type</th>\n",
       "      <th>Functional Classification</th>\n",
       "      <th>Speed</th>\n",
       "    </tr>\n",
       "  </thead>\n",
       "  <tbody>\n",
       "    <tr>\n",
       "      <th>0</th>\n",
       "      <td>2019</td>\n",
       "      <td>Jan</td>\n",
       "      <td>Passenger</td>\n",
       "      <td>AM</td>\n",
       "      <td>Urban</td>\n",
       "      <td>1</td>\n",
       "      <td>54.5</td>\n",
       "    </tr>\n",
       "    <tr>\n",
       "      <th>1</th>\n",
       "      <td>2019</td>\n",
       "      <td>Jan</td>\n",
       "      <td>Passenger</td>\n",
       "      <td>AM</td>\n",
       "      <td>Urban</td>\n",
       "      <td>2</td>\n",
       "      <td>49.6</td>\n",
       "    </tr>\n",
       "    <tr>\n",
       "      <th>2</th>\n",
       "      <td>2019</td>\n",
       "      <td>Jan</td>\n",
       "      <td>Passenger</td>\n",
       "      <td>AM</td>\n",
       "      <td>Urban</td>\n",
       "      <td>3</td>\n",
       "      <td>27.5</td>\n",
       "    </tr>\n",
       "    <tr>\n",
       "      <th>3</th>\n",
       "      <td>2019</td>\n",
       "      <td>Jan</td>\n",
       "      <td>Passenger</td>\n",
       "      <td>AM</td>\n",
       "      <td>Urban</td>\n",
       "      <td>4</td>\n",
       "      <td>24.9</td>\n",
       "    </tr>\n",
       "    <tr>\n",
       "      <th>4</th>\n",
       "      <td>2019</td>\n",
       "      <td>Jan</td>\n",
       "      <td>Passenger</td>\n",
       "      <td>AM</td>\n",
       "      <td>Urban</td>\n",
       "      <td>5</td>\n",
       "      <td>19.8</td>\n",
       "    </tr>\n",
       "  </tbody>\n",
       "</table>\n",
       "</div>"
      ],
      "text/plain": [
       "   Year Month    Vehicle Time Period (AM/PM) Area Type  \\\n",
       "0  2019   Jan  Passenger                  AM     Urban   \n",
       "1  2019   Jan  Passenger                  AM     Urban   \n",
       "2  2019   Jan  Passenger                  AM     Urban   \n",
       "3  2019   Jan  Passenger                  AM     Urban   \n",
       "4  2019   Jan  Passenger                  AM     Urban   \n",
       "\n",
       "   Functional Classification  Speed  \n",
       "0                          1   54.5  \n",
       "1                          2   49.6  \n",
       "2                          3   27.5  \n",
       "3                          4   24.9  \n",
       "4                          5   19.8  "
      ]
     },
     "execution_count": 24,
     "metadata": {},
     "output_type": "execute_result"
    }
   ],
   "source": [
    "trafficdata.rename(columns={'Vehicle Type':'Vehicle'}, inplace=True)\n",
    "trafficdata.head()"
   ]
  },
  {
   "cell_type": "code",
   "execution_count": 45,
   "id": "4defd660",
   "metadata": {},
   "outputs": [
    {
     "data": {
      "text/html": [
       "<div>\n",
       "<style scoped>\n",
       "    .dataframe tbody tr th:only-of-type {\n",
       "        vertical-align: middle;\n",
       "    }\n",
       "\n",
       "    .dataframe tbody tr th {\n",
       "        vertical-align: top;\n",
       "    }\n",
       "\n",
       "    .dataframe thead th {\n",
       "        text-align: right;\n",
       "    }\n",
       "</style>\n",
       "<table border=\"1\" class=\"dataframe\">\n",
       "  <thead>\n",
       "    <tr style=\"text-align: right;\">\n",
       "      <th></th>\n",
       "      <th>Month</th>\n",
       "      <th>Time Period (AM/PM)</th>\n",
       "      <th>Area Type</th>\n",
       "      <th>Vehicle</th>\n",
       "      <th>Speed</th>\n",
       "    </tr>\n",
       "  </thead>\n",
       "  <tbody>\n",
       "    <tr>\n",
       "      <th>0</th>\n",
       "      <td>Apr</td>\n",
       "      <td>AM</td>\n",
       "      <td>Rural</td>\n",
       "      <td>Freight</td>\n",
       "      <td>47.757143</td>\n",
       "    </tr>\n",
       "    <tr>\n",
       "      <th>1</th>\n",
       "      <td>Apr</td>\n",
       "      <td>AM</td>\n",
       "      <td>Rural</td>\n",
       "      <td>Passenger</td>\n",
       "      <td>49.828571</td>\n",
       "    </tr>\n",
       "    <tr>\n",
       "      <th>2</th>\n",
       "      <td>Apr</td>\n",
       "      <td>AM</td>\n",
       "      <td>Urban</td>\n",
       "      <td>Freight</td>\n",
       "      <td>30.814286</td>\n",
       "    </tr>\n",
       "    <tr>\n",
       "      <th>3</th>\n",
       "      <td>Apr</td>\n",
       "      <td>AM</td>\n",
       "      <td>Urban</td>\n",
       "      <td>Passenger</td>\n",
       "      <td>31.428571</td>\n",
       "    </tr>\n",
       "    <tr>\n",
       "      <th>4</th>\n",
       "      <td>Apr</td>\n",
       "      <td>PM</td>\n",
       "      <td>Rural</td>\n",
       "      <td>Freight</td>\n",
       "      <td>47.300000</td>\n",
       "    </tr>\n",
       "    <tr>\n",
       "      <th>5</th>\n",
       "      <td>Apr</td>\n",
       "      <td>PM</td>\n",
       "      <td>Rural</td>\n",
       "      <td>Passenger</td>\n",
       "      <td>49.542857</td>\n",
       "    </tr>\n",
       "    <tr>\n",
       "      <th>6</th>\n",
       "      <td>Apr</td>\n",
       "      <td>PM</td>\n",
       "      <td>Urban</td>\n",
       "      <td>Freight</td>\n",
       "      <td>29.828571</td>\n",
       "    </tr>\n",
       "    <tr>\n",
       "      <th>7</th>\n",
       "      <td>Apr</td>\n",
       "      <td>PM</td>\n",
       "      <td>Urban</td>\n",
       "      <td>Passenger</td>\n",
       "      <td>29.185714</td>\n",
       "    </tr>\n",
       "    <tr>\n",
       "      <th>8</th>\n",
       "      <td>Aug</td>\n",
       "      <td>AM</td>\n",
       "      <td>Rural</td>\n",
       "      <td>Freight</td>\n",
       "      <td>45.471429</td>\n",
       "    </tr>\n",
       "    <tr>\n",
       "      <th>9</th>\n",
       "      <td>Aug</td>\n",
       "      <td>AM</td>\n",
       "      <td>Rural</td>\n",
       "      <td>Passenger</td>\n",
       "      <td>47.328571</td>\n",
       "    </tr>\n",
       "    <tr>\n",
       "      <th>10</th>\n",
       "      <td>Aug</td>\n",
       "      <td>AM</td>\n",
       "      <td>Urban</td>\n",
       "      <td>Freight</td>\n",
       "      <td>31.628571</td>\n",
       "    </tr>\n",
       "    <tr>\n",
       "      <th>11</th>\n",
       "      <td>Aug</td>\n",
       "      <td>AM</td>\n",
       "      <td>Urban</td>\n",
       "      <td>Passenger</td>\n",
       "      <td>32.100000</td>\n",
       "    </tr>\n",
       "    <tr>\n",
       "      <th>12</th>\n",
       "      <td>Aug</td>\n",
       "      <td>PM</td>\n",
       "      <td>Rural</td>\n",
       "      <td>Freight</td>\n",
       "      <td>45.757143</td>\n",
       "    </tr>\n",
       "    <tr>\n",
       "      <th>13</th>\n",
       "      <td>Aug</td>\n",
       "      <td>PM</td>\n",
       "      <td>Rural</td>\n",
       "      <td>Passenger</td>\n",
       "      <td>48.500000</td>\n",
       "    </tr>\n",
       "    <tr>\n",
       "      <th>14</th>\n",
       "      <td>Aug</td>\n",
       "      <td>PM</td>\n",
       "      <td>Urban</td>\n",
       "      <td>Freight</td>\n",
       "      <td>29.614286</td>\n",
       "    </tr>\n",
       "    <tr>\n",
       "      <th>15</th>\n",
       "      <td>Aug</td>\n",
       "      <td>PM</td>\n",
       "      <td>Urban</td>\n",
       "      <td>Passenger</td>\n",
       "      <td>29.228571</td>\n",
       "    </tr>\n",
       "    <tr>\n",
       "      <th>16</th>\n",
       "      <td>Dec</td>\n",
       "      <td>AM</td>\n",
       "      <td>Rural</td>\n",
       "      <td>Freight</td>\n",
       "      <td>49.766667</td>\n",
       "    </tr>\n",
       "    <tr>\n",
       "      <th>17</th>\n",
       "      <td>Dec</td>\n",
       "      <td>AM</td>\n",
       "      <td>Rural</td>\n",
       "      <td>Passenger</td>\n",
       "      <td>49.685714</td>\n",
       "    </tr>\n",
       "    <tr>\n",
       "      <th>18</th>\n",
       "      <td>Dec</td>\n",
       "      <td>AM</td>\n",
       "      <td>Urban</td>\n",
       "      <td>Freight</td>\n",
       "      <td>32.114286</td>\n",
       "    </tr>\n",
       "    <tr>\n",
       "      <th>19</th>\n",
       "      <td>Dec</td>\n",
       "      <td>AM</td>\n",
       "      <td>Urban</td>\n",
       "      <td>Passenger</td>\n",
       "      <td>32.171429</td>\n",
       "    </tr>\n",
       "    <tr>\n",
       "      <th>20</th>\n",
       "      <td>Dec</td>\n",
       "      <td>PM</td>\n",
       "      <td>Rural</td>\n",
       "      <td>Freight</td>\n",
       "      <td>51.150000</td>\n",
       "    </tr>\n",
       "    <tr>\n",
       "      <th>21</th>\n",
       "      <td>Dec</td>\n",
       "      <td>PM</td>\n",
       "      <td>Rural</td>\n",
       "      <td>Passenger</td>\n",
       "      <td>49.542857</td>\n",
       "    </tr>\n",
       "    <tr>\n",
       "      <th>22</th>\n",
       "      <td>Dec</td>\n",
       "      <td>PM</td>\n",
       "      <td>Urban</td>\n",
       "      <td>Freight</td>\n",
       "      <td>30.385714</td>\n",
       "    </tr>\n",
       "    <tr>\n",
       "      <th>23</th>\n",
       "      <td>Dec</td>\n",
       "      <td>PM</td>\n",
       "      <td>Urban</td>\n",
       "      <td>Passenger</td>\n",
       "      <td>29.414286</td>\n",
       "    </tr>\n",
       "    <tr>\n",
       "      <th>24</th>\n",
       "      <td>Feb</td>\n",
       "      <td>AM</td>\n",
       "      <td>Rural</td>\n",
       "      <td>Freight</td>\n",
       "      <td>44.371429</td>\n",
       "    </tr>\n",
       "    <tr>\n",
       "      <th>25</th>\n",
       "      <td>Feb</td>\n",
       "      <td>AM</td>\n",
       "      <td>Rural</td>\n",
       "      <td>Passenger</td>\n",
       "      <td>44.128571</td>\n",
       "    </tr>\n",
       "    <tr>\n",
       "      <th>26</th>\n",
       "      <td>Feb</td>\n",
       "      <td>AM</td>\n",
       "      <td>Urban</td>\n",
       "      <td>Freight</td>\n",
       "      <td>30.685714</td>\n",
       "    </tr>\n",
       "    <tr>\n",
       "      <th>27</th>\n",
       "      <td>Feb</td>\n",
       "      <td>AM</td>\n",
       "      <td>Urban</td>\n",
       "      <td>Passenger</td>\n",
       "      <td>31.085714</td>\n",
       "    </tr>\n",
       "    <tr>\n",
       "      <th>28</th>\n",
       "      <td>Feb</td>\n",
       "      <td>PM</td>\n",
       "      <td>Rural</td>\n",
       "      <td>Freight</td>\n",
       "      <td>43.328571</td>\n",
       "    </tr>\n",
       "    <tr>\n",
       "      <th>29</th>\n",
       "      <td>Feb</td>\n",
       "      <td>PM</td>\n",
       "      <td>Rural</td>\n",
       "      <td>Passenger</td>\n",
       "      <td>46.800000</td>\n",
       "    </tr>\n",
       "  </tbody>\n",
       "</table>\n",
       "</div>"
      ],
      "text/plain": [
       "   Month Time Period (AM/PM) Area Type    Vehicle      Speed\n",
       "0    Apr                  AM     Rural    Freight  47.757143\n",
       "1    Apr                  AM     Rural  Passenger  49.828571\n",
       "2    Apr                  AM     Urban    Freight  30.814286\n",
       "3    Apr                  AM     Urban  Passenger  31.428571\n",
       "4    Apr                  PM     Rural    Freight  47.300000\n",
       "5    Apr                  PM     Rural  Passenger  49.542857\n",
       "6    Apr                  PM     Urban    Freight  29.828571\n",
       "7    Apr                  PM     Urban  Passenger  29.185714\n",
       "8    Aug                  AM     Rural    Freight  45.471429\n",
       "9    Aug                  AM     Rural  Passenger  47.328571\n",
       "10   Aug                  AM     Urban    Freight  31.628571\n",
       "11   Aug                  AM     Urban  Passenger  32.100000\n",
       "12   Aug                  PM     Rural    Freight  45.757143\n",
       "13   Aug                  PM     Rural  Passenger  48.500000\n",
       "14   Aug                  PM     Urban    Freight  29.614286\n",
       "15   Aug                  PM     Urban  Passenger  29.228571\n",
       "16   Dec                  AM     Rural    Freight  49.766667\n",
       "17   Dec                  AM     Rural  Passenger  49.685714\n",
       "18   Dec                  AM     Urban    Freight  32.114286\n",
       "19   Dec                  AM     Urban  Passenger  32.171429\n",
       "20   Dec                  PM     Rural    Freight  51.150000\n",
       "21   Dec                  PM     Rural  Passenger  49.542857\n",
       "22   Dec                  PM     Urban    Freight  30.385714\n",
       "23   Dec                  PM     Urban  Passenger  29.414286\n",
       "24   Feb                  AM     Rural    Freight  44.371429\n",
       "25   Feb                  AM     Rural  Passenger  44.128571\n",
       "26   Feb                  AM     Urban    Freight  30.685714\n",
       "27   Feb                  AM     Urban  Passenger  31.085714\n",
       "28   Feb                  PM     Rural    Freight  43.328571\n",
       "29   Feb                  PM     Rural  Passenger  46.800000"
      ]
     },
     "execution_count": 45,
     "metadata": {},
     "output_type": "execute_result"
    }
   ],
   "source": [
    "data19=traffic2019.drop(['Year','Functional Classification'],axis=1).groupby(['Month','Time Period (AM/PM)','Area Type','Vehicle'],as_index=False).mean()\n",
    "data19.head(30)"
   ]
  },
  {
   "cell_type": "code",
   "execution_count": 47,
   "id": "f0e7c4ca",
   "metadata": {},
   "outputs": [
    {
     "name": "stdout",
     "output_type": "stream",
     "text": [
      "<class 'pandas.core.frame.DataFrame'>\n",
      "RangeIndex: 96 entries, 0 to 95\n",
      "Data columns (total 5 columns):\n",
      " #   Column               Non-Null Count  Dtype  \n",
      "---  ------               --------------  -----  \n",
      " 0   Month                96 non-null     object \n",
      " 1   Time Period (AM/PM)  96 non-null     object \n",
      " 2   Area Type            96 non-null     object \n",
      " 3   Vehicle              96 non-null     object \n",
      " 4   Speed                96 non-null     float64\n",
      "dtypes: float64(1), object(4)\n",
      "memory usage: 3.9+ KB\n"
     ]
    }
   ],
   "source": [
    "data19.info()"
   ]
  },
  {
   "cell_type": "code",
   "execution_count": 40,
   "id": "23620b88",
   "metadata": {},
   "outputs": [],
   "source": [
    "data19.to_csv('data19.csv')"
   ]
  },
  {
   "cell_type": "code",
   "execution_count": 127,
   "id": "ab691cfc",
   "metadata": {
    "scrolled": false
   },
   "outputs": [
    {
     "data": {
      "image/png": "[encoded data removed]",
      "text/plain": [
       "<Figure size 640x480 with 1 Axes>"
      ]
     },
     "metadata": {},
     "output_type": "display_data"
    },
    {
     "data": {
      "image/png": "[encoded data removed]",
      "text/plain": [
       "<Figure size 640x480 with 1 Axes>"
      ]
     },
     "metadata": {},
     "output_type": "display_data"
    }
   ],
   "source": [
    "months=[Month for Month, df in data19.groupby('Month')]\n",
    "\n",
    "##the y-axes are defined in the cells below\n",
    "\n",
    "plt.subplot(2,1,1)\n",
    "plt.plot(months,am_rural_freight,label='AM/RURAL/FREIGHT')\n",
    "plt.plot(months,am_rural_passenger,label='AM/RURAL/PASSENGER')\n",
    "plt.plot(months,am_urban_freight,label='AM/URBAN/FREIGHT')\n",
    "plt.plot(months,am_urban_passenger,label='AM/URBAN/PASSENGER')\n",
    "\n",
    "plt.xticks(months,rotation='vertical')\n",
    "plt.title('Months vs Speed(2019)')\n",
    "plt.xlabel('Month')\n",
    "plt.ylabel('Speed')\n",
    "plt.legend()\n",
    "plt.show()\n",
    "\n",
    "plt.subplot(2,1,2)\n",
    "\n",
    "plt.plot(months,pm_rural_freight,label='PM/RURAL/FREIGHT')\n",
    "plt.plot(months,pm_rural_passenger,label='PM/RURAL/PASSENGER')\n",
    "plt.plot(months,pm_urban_freight,label='PM/URBAN/FREIGHT')\n",
    "plt.plot(months,pm_urban_passenger,label='PM/URBAN/PASSENGER')\n",
    "plt.xticks(months,rotation='vertical')\n",
    "plt.xlabel('Month')\n",
    "plt.ylabel('Speed')\n",
    "plt.legend()\n",
    "plt.show()\n",
    "\n",
    "\n"
   ]
  },
  {
   "cell_type": "code",
   "execution_count": 97,
   "id": "3d78c6cb",
   "metadata": {},
   "outputs": [
    {
     "data": {
      "text/html": [
       "<div>\n",
       "<style scoped>\n",
       "    .dataframe tbody tr th:only-of-type {\n",
       "        vertical-align: middle;\n",
       "    }\n",
       "\n",
       "    .dataframe tbody tr th {\n",
       "        vertical-align: top;\n",
       "    }\n",
       "\n",
       "    .dataframe thead th {\n",
       "        text-align: right;\n",
       "    }\n",
       "</style>\n",
       "<table border=\"1\" class=\"dataframe\">\n",
       "  <thead>\n",
       "    <tr style=\"text-align: right;\">\n",
       "      <th></th>\n",
       "      <th>Month</th>\n",
       "      <th>Time</th>\n",
       "      <th>Area</th>\n",
       "      <th>Vehicle</th>\n",
       "      <th>Speed</th>\n",
       "    </tr>\n",
       "  </thead>\n",
       "  <tbody>\n",
       "    <tr>\n",
       "      <th>0</th>\n",
       "      <td>Apr</td>\n",
       "      <td>AM</td>\n",
       "      <td>Rural</td>\n",
       "      <td>Freight</td>\n",
       "      <td>47.757143</td>\n",
       "    </tr>\n",
       "    <tr>\n",
       "      <th>1</th>\n",
       "      <td>Apr</td>\n",
       "      <td>AM</td>\n",
       "      <td>Rural</td>\n",
       "      <td>Passenger</td>\n",
       "      <td>49.828571</td>\n",
       "    </tr>\n",
       "    <tr>\n",
       "      <th>2</th>\n",
       "      <td>Apr</td>\n",
       "      <td>AM</td>\n",
       "      <td>Urban</td>\n",
       "      <td>Freight</td>\n",
       "      <td>30.814286</td>\n",
       "    </tr>\n",
       "    <tr>\n",
       "      <th>3</th>\n",
       "      <td>Apr</td>\n",
       "      <td>AM</td>\n",
       "      <td>Urban</td>\n",
       "      <td>Passenger</td>\n",
       "      <td>31.428571</td>\n",
       "    </tr>\n",
       "    <tr>\n",
       "      <th>4</th>\n",
       "      <td>Apr</td>\n",
       "      <td>PM</td>\n",
       "      <td>Rural</td>\n",
       "      <td>Freight</td>\n",
       "      <td>47.300000</td>\n",
       "    </tr>\n",
       "  </tbody>\n",
       "</table>\n",
       "</div>"
      ],
      "text/plain": [
       "  Month Time   Area    Vehicle      Speed\n",
       "0   Apr   AM  Rural    Freight  47.757143\n",
       "1   Apr   AM  Rural  Passenger  49.828571\n",
       "2   Apr   AM  Urban    Freight  30.814286\n",
       "3   Apr   AM  Urban  Passenger  31.428571\n",
       "4   Apr   PM  Rural    Freight  47.300000"
      ]
     },
     "execution_count": 97,
     "metadata": {},
     "output_type": "execute_result"
    }
   ],
   "source": [
    "data19.head()"
   ]
  },
  {
   "cell_type": "code",
   "execution_count": 110,
   "id": "2467f7b4",
   "metadata": {},
   "outputs": [],
   "source": [
    "data19.rename(columns={'Time Period (AM/PM)':'Time','Area Type':'Area'}, inplace=True)\n",
    "\n",
    "am_rural_freight=data19.query(\"Time =='AM'& Area =='Rural'& Vehicle=='Freight'\")['Speed']\n",
    "am_urban_freight=data19.query(\"Time =='AM'& Area =='Urban'& Vehicle=='Freight'\")['Speed']\n",
    "am_urban_passenger=data19.query(\"Time =='AM'& Area =='Urban'& Vehicle=='Passenger'\")['Speed']\n",
    "am_rural_passenger=data19.query(\"Time =='AM'& Area =='Rural'& Vehicle=='Passenger'\")['Speed']\n",
    "\n",
    "pm_rural_freight=data19.query(\"Time =='PM'& Area =='Rural'& Vehicle=='Freight'\")['Speed']\n",
    "pm_rural_passenger=data19.query(\"Time =='PM'& Area =='Rural'& Vehicle=='Passenger'\")['Speed']\n",
    "pm_urban_freight=data19.query(\"Time =='PM'& Area =='Urban'& Vehicle=='Freight'\")['Speed']\n",
    "pm_urban_passenger=data19.query(\"Time =='PM'& Area =='Urban'& Vehicle=='Passenger'\")['Speed']"
   ]
  },
  {
   "cell_type": "code",
   "execution_count": 88,
   "id": "08c6616a",
   "metadata": {},
   "outputs": [
    {
     "name": "stdout",
     "output_type": "stream",
     "text": [
      "<class 'pandas.core.frame.DataFrame'>\n",
      "RangeIndex: 96 entries, 0 to 95\n",
      "Data columns (total 5 columns):\n",
      " #   Column   Non-Null Count  Dtype  \n",
      "---  ------   --------------  -----  \n",
      " 0   Month    96 non-null     object \n",
      " 1   Time     96 non-null     object \n",
      " 2   Area     96 non-null     object \n",
      " 3   Vehicle  96 non-null     object \n",
      " 4   Speed    96 non-null     float64\n",
      "dtypes: float64(1), object(4)\n",
      "memory usage: 3.9+ KB\n"
     ]
    }
   ],
   "source": [
    "data19.info()"
   ]
  },
  {
   "cell_type": "code",
   "execution_count": null,
   "id": "fa87e9f2",
   "metadata": {},
   "outputs": [],
   "source": []
  },
  {
   "cell_type": "code",
   "execution_count": null,
   "id": "caa9ad96",
   "metadata": {},
   "outputs": [],
   "source": []
  },
  {
   "cell_type": "code",
   "execution_count": null,
   "id": "506efa3d",
   "metadata": {},
   "outputs": [],
   "source": []
  },
  {
   "cell_type": "code",
   "execution_count": null,
   "id": "0648418a",
   "metadata": {},
   "outputs": [],
   "source": []
  }
 ],
 "metadata": {
  "kernelspec": {
   "display_name": "Python 3 (ipykernel)",
   "language": "python",
   "name": "python3"
  },
  "language_info": {
   "codemirror_mode": {
    "name": "ipython",
    "version": 3
   },
   "file_extension": ".py",
   "mimetype": "text/x-python",
   "name": "python",
   "nbconvert_exporter": "python",
   "pygments_lexer": "ipython3",
   "version": "3.11.1"
  }
 },
 "nbformat": 4,
 "nbformat_minor": 5
}
